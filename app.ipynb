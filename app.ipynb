{
 "cells": [
  {
   "cell_type": "code",
   "execution_count": 35,
   "metadata": {},
   "outputs": [
    {
     "name": "stdout",
     "output_type": "stream",
     "text": [
      "That was a not a fall !\n",
      "- With an accuracy of 74.0 %\n"
     ]
    }
   ],
   "source": [
    "import sys\n",
    "import numpy as np\n",
    "import pandas as pd\n",
    "from statsmodels.nonparametric.smoothers_lowess import lowess\n",
    "from scipy import signal\n",
    "import pickle\n",
    "from tabulate import tabulate\n",
    "\n",
    "def stats_generator(df):\n",
    "    # total max Acceleration\n",
    "    max_AT = df['AccelerationT'].idxmax()\n",
    "    \n",
    "    # 1 sec before and after drop data\n",
    "    Imp_Data = df[max_AT - 50:max_AT + 25] \n",
    "    Imp_Data = pd.DataFrame(Imp_Data)\n",
    "    \n",
    "    MeanX = Imp_Data['AccelerationX'].mean()\n",
    "    MeanY = Imp_Data['AccelerationY'].mean()\n",
    "    MeanZ = Imp_Data['AccelerationZ'].mean()\n",
    "    MeanT = Imp_Data['AccelerationT'].mean()\n",
    "    \n",
    "    StdX = Imp_Data['AccelerationX'].std()\n",
    "    StdY = Imp_Data['AccelerationY'].std()\n",
    "    StdZ = Imp_Data['AccelerationZ'].std()\n",
    "    StdT = Imp_Data['AccelerationT'].std()\n",
    "    \n",
    "    MinX = Imp_Data['AccelerationX'].min()\n",
    "    MinY = Imp_Data['AccelerationY'].min()\n",
    "    MinZ = Imp_Data['AccelerationZ'].min()\n",
    "    MinT = Imp_Data['AccelerationT'].min()\n",
    "    \n",
    "    MaxX = Imp_Data['AccelerationX'].max()\n",
    "    MaxY = Imp_Data['AccelerationY'].max()\n",
    "    MaxZ = Imp_Data['AccelerationZ'].max()\n",
    "    MaxT = Imp_Data['AccelerationT'].max()\n",
    "    \n",
    "    stat = [{'MeanX':MeanX, 'MeanY':MeanY, 'MeanZ':MeanZ, 'MeanT':MeanT, \n",
    "             'StdX': StdX, 'StdY': StdY, 'StdZ': StdZ, 'StdT': StdT,\n",
    "             'MinX': MinX, 'MinY': MinY, 'MinZ': MinZ, 'MinT': MinT,\n",
    "             'MaxX':MaxX, 'MaxY':MaxY, 'MaxZ':MaxZ, 'MaxT':MaxT}]\n",
    "    \n",
    "    return pd.DataFrame(stat)\n",
    "\n",
    "def main(in_directory):\n",
    "    #opening the file\n",
    "    # 1. Importing\n",
    "    df = pd.read_csv(in_directory, sep = ';')\n",
    "    \n",
    "    # 2. Cleaning\n",
    "    b, a = signal.butter(3, 0.1, btype='lowpass', analog=False)\n",
    "    low_passed_walkSitX = list(signal.filtfilt(b, a, df[\"AccelerationX\"]))\n",
    "    low_passed_walkSitY = list(signal.filtfilt(b, a, df[\"AccelerationY\"]))\n",
    "    low_passed_walkSitZ = list(signal.filtfilt(b, a, df[\"AccelerationZ\"]))\n",
    "    low_passed = pd.DataFrame(list(zip(low_passed_walkSitX, low_passed_walkSitY, low_passed_walkSitZ)),\n",
    "                                            columns=[\"AccelerationX\", \"AccelerationY\", \"AccelerationZ\"])\n",
    "    low_passed[\"AccelerationT\"] = np.sqrt(df[\"AccelerationX\"]**2 * \n",
    "                                                     df[\"AccelerationY\"]**2 *\n",
    "                                                     df[\"AccelerationZ\"]**2 )\n",
    "    # 3. Transforming\n",
    "    transformed = stats_generator(low_passed)\n",
    "    \n",
    "    # 4. Loding the model\n",
    "    randomForestClf = pickle.load(open(\"Models/RandomForestClf.pkl\", \"rb\"))\n",
    "    rfResults = randomForestClf.predict(transformed)\n",
    "    rfResultsP = randomForestClf.predict_proba(transformed)\n",
    "             \n",
    "    if rfResults:\n",
    "        print(\"That was a fall !\")\n",
    "        print(f\"- With an accuracy of { rfResultsP[0][1]*100} %\")\n",
    "    else:\n",
    "        print(\"That was a not a fall !\")\n",
    "        print(f\"- With an accuracy of { rfResultsP[0][0]*100} %\")\n",
    " \n",
    "    \n",
    "if __name__ == '__main__':\n",
    "    in_directory = sys.argv[1]\n",
    "    main(in_directory)"
   ]
  }
 ],
 "metadata": {
  "kernelspec": {
   "display_name": "Python 3",
   "language": "python",
   "name": "python3"
  },
  "language_info": {
   "codemirror_mode": {
    "name": "ipython",
    "version": 3
   },
   "file_extension": ".py",
   "mimetype": "text/x-python",
   "name": "python",
   "nbconvert_exporter": "python",
   "pygments_lexer": "ipython3",
   "version": "3.7.6"
  }
 },
 "nbformat": 4,
 "nbformat_minor": 4
}
