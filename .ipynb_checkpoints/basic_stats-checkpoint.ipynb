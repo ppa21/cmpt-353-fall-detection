{
 "cells": [
  {
   "cell_type": "code",
   "execution_count": 1,
   "metadata": {},
   "outputs": [],
   "source": [
    "import sys\n",
    "import numpy as np\n",
    "import pandas as pd\n",
    "import matplotlib.pyplot as plt\n",
    "from datetime import datetime\n",
    "from statsmodels.nonparametric.smoothers_lowess import lowess"
   ]
  },
  {
   "cell_type": "code",
   "execution_count": 2,
   "metadata": {},
   "outputs": [],
   "source": [
    "df1 = pd.read_csv(\"Data/downSit/downSit9.csv\",sep=';') \n",
    "df2 = pd.read_csv(\"Data/runFall/runFall9.csv\",sep=';') \n",
    "df3 = pd.read_csv(\"Data/walkFall/walkFall9.csv\",sep=';') \n",
    "df4 = pd.read_csv(\"Data/walkSit/walkSit9.csv\",sep=';')   "
   ]
  },
  {
   "cell_type": "code",
   "execution_count": 3,
   "metadata": {
    "tags": []
   },
   "outputs": [
    {
     "name": "stdout",
     "output_type": "stream",
     "text": [
      "downSit9 accelerationX mean:  -0.5894574872542091\n",
      "downSit9 accelerationY mean:  0.7972780079775255\n",
      "downSit9 accelerationZ mean:  -0.11125428823543117\n",
      "\n",
      "runFall9 accelerationX mean:  -0.6132879515988143\n",
      "runFall9 accelerationY mean:  1.0501475118512484\n",
      "runFall9 accelerationZ mean:  -0.20974294384520256\n",
      "\n",
      "walkFall9 accelerationX mean:  -0.5668604934195098\n",
      "walkFall9 accelerationY mean:  0.7733055755981655\n",
      "walkFall9 accelerationZ mean:  -0.060505233947858596\n",
      "\n",
      "walkSit9 accelerationX mean:  -0.5748205762390697\n",
      "walkSit9 accelerationY mean:  0.8730622457801749\n",
      "walkSit9 accelerationZ mean:  -0.0395111083984375\n"
     ]
    }
   ],
   "source": [
    "print('downSit9 accelerationX mean: ', df1['AccelerationX'].mean())\n",
    "print('downSit9 accelerationY mean: ', df1['AccelerationY'].mean())\n",
    "print('downSit9 accelerationZ mean: ', df1['AccelerationZ'].mean())\n",
    "print()\n",
    "print('runFall9 accelerationX mean: ', df2['AccelerationX'].mean())\n",
    "print('runFall9 accelerationY mean: ', df2['AccelerationY'].mean())\n",
    "print('runFall9 accelerationZ mean: ', df2['AccelerationZ'].mean())\n",
    "print()\n",
    "print('walkFall9 accelerationX mean: ', df3['AccelerationX'].mean())\n",
    "print('walkFall9 accelerationY mean: ', df3['AccelerationY'].mean())\n",
    "print('walkFall9 accelerationZ mean: ', df3['AccelerationZ'].mean())\n",
    "print()\n",
    "print('walkSit9 accelerationX mean: ', df4['AccelerationX'].mean())\n",
    "print('walkSit9 accelerationY mean: ', df4['AccelerationY'].mean())    \n",
    "print('walkSit9 accelerationZ mean: ', df4['AccelerationZ'].mean())"
   ]
  },
  {
   "cell_type": "code",
   "execution_count": 4,
   "metadata": {
    "tags": []
   },
   "outputs": [
    {
     "name": "stdout",
     "output_type": "stream",
     "text": [
      "downSit9 accelerationX std:  0.19495481191097427\n",
      "downSit9 accelerationY std:  0.24102340951783635\n",
      "downSit9 accelerationZ std:  0.1871004050131336\n",
      "\n",
      "runFall9 accelerationX std:  0.4816672819422814\n",
      "runFall9 accelerationY std:  0.4682249510703953\n",
      "runFall9 accelerationZ std:  0.43602400462681484\n",
      "\n",
      "walkFall9 accelerationX std:  0.2620503159739282\n",
      "walkFall9 accelerationY std:  0.2755886416241738\n",
      "walkFall9 accelerationZ std:  0.37150479676376696\n",
      "\n",
      "walkSit9 accelerationX std:  0.23935969959276213\n",
      "walkSit9 accelerationY std:  0.27258987129534146\n",
      "walkSit9 accelerationZ std:  0.2401447035701782\n"
     ]
    }
   ],
   "source": [
    "print('downSit9 accelerationX std: ', df1['AccelerationX'].std())\n",
    "print('downSit9 accelerationY std: ', df1['AccelerationY'].std())\n",
    "print('downSit9 accelerationZ std: ', df1['AccelerationZ'].std())\n",
    "print()\n",
    "print('runFall9 accelerationX std: ', df2['AccelerationX'].std())\n",
    "print('runFall9 accelerationY std: ', df2['AccelerationY'].std())\n",
    "print('runFall9 accelerationZ std: ', df2['AccelerationZ'].std())\n",
    "print()\n",
    "print('walkFall9 accelerationX std: ', df3['AccelerationX'].std())\n",
    "print('walkFall9 accelerationY std: ', df3['AccelerationY'].std())\n",
    "print('walkFall9 accelerationZ std: ', df3['AccelerationZ'].std())\n",
    "print()\n",
    "print('walkSit9 accelerationX std: ', df4['AccelerationX'].std())\n",
    "print('walkSit9 accelerationY std: ', df4['AccelerationY'].std())\n",
    "print('walkSit9 accelerationZ std: ', df4['AccelerationZ'].std())"
   ]
  },
  {
   "cell_type": "code",
   "execution_count": 5,
   "metadata": {
    "tags": []
   },
   "outputs": [
    {
     "name": "stdout",
     "output_type": "stream",
     "text": [
      "downSit9 accelerationX min:  -1.337677001953125\n",
      "downSit9 accelerationY min:  -0.5545806884765625\n",
      "downSit9 accelerationZ min:  -1.3339080810546875\n",
      "\n",
      "runFall9 accelerationX min:  -1.8798675537109373\n",
      "runFall9 accelerationY min:  -6.249923706054688\n",
      "runFall9 accelerationZ min:  -7.412078857421875\n",
      "\n",
      "walkFall9 accelerationX min:  -2.59405517578125\n",
      "walkFall9 accelerationY min:  -0.5759429931640625\n",
      "walkFall9 accelerationZ min:  -2.376800537109375\n",
      "\n",
      "walkSit9 accelerationX min:  -1.274322509765625\n",
      "walkSit9 accelerationY min:  -0.677734375\n",
      "walkSit9 accelerationZ min:  -1.683807373046875\n"
     ]
    }
   ],
   "source": [
    "print('downSit9 accelerationX min: ', df1['AccelerationX'].min())\n",
    "print('downSit9 accelerationY min: ', df1['AccelerationY'].min())\n",
    "print('downSit9 accelerationZ min: ', df1['AccelerationZ'].min())\n",
    "print()\n",
    "print('runFall9 accelerationX min: ', df2['AccelerationX'].min())\n",
    "print('runFall9 accelerationY min: ', df2['AccelerationY'].min())\n",
    "print('runFall9 accelerationZ min: ', df2['AccelerationZ'].min())\n",
    "print()\n",
    "print('walkFall9 accelerationX min: ', df3['AccelerationX'].min())\n",
    "print('walkFall9 accelerationY min: ', df3['AccelerationY'].min())\n",
    "print('walkFall9 accelerationZ min: ', df3['AccelerationZ'].min())\n",
    "print()\n",
    "print('walkSit9 accelerationX min: ', df4['AccelerationX'].min())\n",
    "print('walkSit9 accelerationY min: ', df4['AccelerationY'].min())\n",
    "print('walkSit9 accelerationZ min: ', df4['AccelerationZ'].min())"
   ]
  },
  {
   "cell_type": "code",
   "execution_count": 6,
   "metadata": {
    "tags": []
   },
   "outputs": [
    {
     "name": "stdout",
     "output_type": "stream",
     "text": [
      "downSit9 accelerationX max:  0.24114990234375\n",
      "downSit9 accelerationY max:  1.8837432861328125\n",
      "downSit9 accelerationZ max:  0.36529541015625\n",
      "\n",
      "runFall9 accelerationX max:  6.3331298828125\n",
      "runFall9 accelerationY max:  3.096923828125\n",
      "runFall9 accelerationZ max:  2.3515777587890625\n",
      "\n",
      "walkFall9 accelerationX max:  3.746337890625\n",
      "walkFall9 accelerationY max:  1.22332763671875\n",
      "walkFall9 accelerationZ max:  6.335113525390625\n",
      "\n",
      "walkSit9 accelerationX max:  0.295013427734375\n",
      "walkSit9 accelerationY max:  2.00811767578125\n",
      "walkSit9 accelerationZ max:  1.0724945068359375\n"
     ]
    }
   ],
   "source": [
    "print('downSit9 accelerationX max: ', df1['AccelerationX'].max())\n",
    "print('downSit9 accelerationY max: ', df1['AccelerationY'].max())\n",
    "print('downSit9 accelerationZ max: ', df1['AccelerationZ'].max())\n",
    "print()\n",
    "print('runFall9 accelerationX max: ', df2['AccelerationX'].max())\n",
    "print('runFall9 accelerationY max: ', df2['AccelerationY'].max())\n",
    "print('runFall9 accelerationZ max: ', df2['AccelerationZ'].max())\n",
    "print()\n",
    "print('walkFall9 accelerationX max: ', df3['AccelerationX'].max())\n",
    "print('walkFall9 accelerationY max: ', df3['AccelerationY'].max())\n",
    "print('walkFall9 accelerationZ max: ', df3['AccelerationZ'].max())\n",
    "print()\n",
    "print('walkSit9 accelerationX max: ', df4['AccelerationX'].max())\n",
    "print('walkSit9 accelerationY max: ', df4['AccelerationY'].max())\n",
    "print('walkSit9 accelerationZ max: ', df4['AccelerationZ'].max())"
   ]
  }
 ],
 "metadata": {
  "kernelspec": {
   "display_name": "Python 3",
   "language": "python",
   "name": "python3"
  },
  "language_info": {
   "codemirror_mode": {
    "name": "ipython",
    "version": 3
   },
   "file_extension": ".py",
   "mimetype": "text/x-python",
   "name": "python",
   "nbconvert_exporter": "python",
   "pygments_lexer": "ipython3",
   "version": "3.7.6"
  }
 },
 "nbformat": 4,
 "nbformat_minor": 4
}
