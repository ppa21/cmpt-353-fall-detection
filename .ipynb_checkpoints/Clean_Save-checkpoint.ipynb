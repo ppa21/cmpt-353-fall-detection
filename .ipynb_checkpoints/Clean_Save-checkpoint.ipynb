{
 "cells": [
  {
   "cell_type": "code",
   "execution_count": 2,
   "metadata": {},
   "outputs": [],
   "source": [
    "import sys\n",
    "import numpy as np\n",
    "import pandas as pd\n",
    "import matplotlib.pyplot as plt\n",
    "from datetime import datetime\n",
    "from pykalman import KalmanFilter\n",
    "from statsmodels.nonparametric.smoothers_lowess import lowess\n",
    "from scipy import signal\n",
    "import scipy.fftpack\n",
    "from mpl_toolkits.mplot3d import Axes3D"
   ]
  },
  {
   "cell_type": "code",
   "execution_count": 5,
   "metadata": {},
   "outputs": [],
   "source": [
    "Situations = [\"walkSit\", \"walkFall\", \"runFall\", \"downSit\", \"freeFall\"]"
   ]
  },
  {
   "cell_type": "code",
   "execution_count": 6,
   "metadata": {},
   "outputs": [],
   "source": [
    "walkSit = []\n",
    "walkFall = []\n",
    "runFall = []\n",
    "downSit = []\n",
    "freeFall = []\n",
    "runSit = []\n",
    "\n",
    "\n",
    "for i in range(47):\n",
    "    walkSit.append(pd.read_csv(\"Data/Original/walkSit/walkSit{}.csv\".format(i+1), sep = ';'))\n",
    "\n",
    "for i in range(48):    \n",
    "    walkFall.append(pd.read_csv(\"Data/Original/walkFall/walkFall{}.csv\".format(i+1), sep = ';'))\n",
    "\n",
    "for i in range(46):\n",
    "    runFall.append(pd.read_csv(\"Data/Original/runFall/runFall{}.csv\".format(i+1), sep = ';'))\n",
    "\n",
    "for i in range(33):\n",
    "    downSit.append(pd.read_csv(\"Data/Original/downSit/downSit{}.csv\".format(i+1), sep = ';'))\n",
    "\n",
    "for i in range(15):\n",
    "    freeFall.append(pd.read_csv(\"Data/Original/freeFall/freeFall{}.csv\".format(i+1), sep = ';'))"
   ]
  },
  {
   "cell_type": "code",
   "execution_count": 7,
   "metadata": {},
   "outputs": [],
   "source": [
    "#using low pass filter \n",
    "b, a = signal.butter(3, 0.1, btype='lowpass', analog=False)"
   ]
  },
  {
   "cell_type": "markdown",
   "metadata": {},
   "source": [
    "# `Walk and Sit`"
   ]
  },
  {
   "cell_type": "code",
   "execution_count": null,
   "metadata": {},
   "outputs": [],
   "source": [
    "low_passed_walkSit = []\n",
    "for i in range(47):\n",
    "    low_passed_walkSitX = list(signal.filtfilt(b, a, walkSit[i][\"AccelerationX\"]))\n",
    "    low_passed_walkSitY = list(signal.filtfilt(b, a, walkSit[i][\"AccelerationY\"]))\n",
    "    low_passed_walkSitZ = list(signal.filtfilt(b, a, walkSit[i][\"AccelerationZ\"]))\n",
    "    low_passed_walkSit.append((pd.DataFrame(list(zip(low_passed_walkSitX, low_passed_walkSitY, low_passed_walkSitZ)),\n",
    "                                            columns=[\"AccelerationX\", \"AccelerationY\", \"AccelerationZ\"])))"
   ]
  },
  {
   "cell_type": "code",
   "execution_count": null,
   "metadata": {},
   "outputs": [],
   "source": [
    "for i in range(47):\n",
    "    low_passed_walkSit[i][\"AccelerationT\"] = np.sqrt(walkSit[i][\"AccelerationX\"]**2 * \n",
    "                                                     walkSit[i][\"AccelerationY\"]**2 *\n",
    "                                                     walkSit[i][\"AccelerationZ\"]**2 )\n",
    "    low_passed_walkSit[i][\"Date\"] = walkSit[i][\"Date\"]\n",
    "    low_passed_walkSit[i][\"Timestamp\"] = walkSit[i][\"Timestamp\"]\n",
    "    low_passed_walkSit[i][\"DeviceOrientation\"] = walkSit[i][\"DeviceOrientation\"]"
   ]
  },
  {
   "cell_type": "code",
   "execution_count": null,
   "metadata": {},
   "outputs": [],
   "source": [
    "for i in range(47):\n",
    "    low_passed_walkSit[i].to_csv(\"Data/Cleaned/walkSit/walkSit{}.csv\".format(i+1),\n",
    "                                 sep = ';', index=False)"
   ]
  },
  {
   "cell_type": "markdown",
   "metadata": {},
   "source": [
    "# `Walk and Fall`"
   ]
  },
  {
   "cell_type": "code",
   "execution_count": null,
   "metadata": {},
   "outputs": [],
   "source": [
    "low_passed_walkFall = []\n",
    "for i in range(48):\n",
    "    low_passed_walkFallX = list(signal.filtfilt(b, a, walkFall[i][\"AccelerationX\"]))\n",
    "    low_passed_walkFallY = list(signal.filtfilt(b, a, walkFall[i][\"AccelerationY\"]))\n",
    "    low_passed_walkFallZ = list(signal.filtfilt(b, a, walkFall[i][\"AccelerationZ\"]))\n",
    "    low_passed_walkFall.append((pd.DataFrame(list(zip(low_passed_walkFallX, low_passed_walkFallY, low_passed_walkFallZ)),\n",
    "                                            columns=[\"AccelerationX\", \"AccelerationY\", \"AccelerationZ\"])))"
   ]
  },
  {
   "cell_type": "code",
   "execution_count": null,
   "metadata": {},
   "outputs": [],
   "source": [
    "for i in range(48):\n",
    "    low_passed_walkFall[i][\"AccelerationT\"] = np.sqrt(walkFall[i][\"AccelerationX\"]**2 * \n",
    "                                                      walkFall[i][\"AccelerationY\"]**2 *\n",
    "                                                      walkFall[i][\"AccelerationZ\"]**2 )\n",
    "    low_passed_walkFall[i][\"Date\"] = walkFall[i][\"Date\"]\n",
    "    low_passed_walkFall[i][\"Timestamp\"] = walkFall[i][\"Timestamp\"]\n",
    "    low_passed_walkFall[i][\"DeviceOrientation\"] = walkFall[i][\"DeviceOrientation\"]"
   ]
  },
  {
   "cell_type": "code",
   "execution_count": null,
   "metadata": {},
   "outputs": [],
   "source": [
    "for i in range(48):\n",
    "    low_passed_walkFall[i].to_csv(\"Data/Cleaned/walkFall/walkFall{}.csv\".format(i+1), sep = ';',index=False)"
   ]
  },
  {
   "cell_type": "markdown",
   "metadata": {},
   "source": [
    "# `run and Fall`"
   ]
  },
  {
   "cell_type": "code",
   "execution_count": null,
   "metadata": {},
   "outputs": [],
   "source": [
    "low_passed_runFall = []\n",
    "for i in range(15):\n",
    "    low_passed_runFallX = list(signal.filtfilt(b, a, runFall[i][\"AccelerationX\"]))\n",
    "    low_passed_runFallY = list(signal.filtfilt(b, a, runFall[i][\"AccelerationY\"]))\n",
    "    low_passed_runFallZ = list(signal.filtfilt(b, a, runFall[i][\"AccelerationZ\"]))\n",
    "    low_passed_runFall.append((pd.DataFrame(list(zip(low_passed_runFallX, low_passed_runFallY, low_passed_runFallZ)),\n",
    "                                            columns=[\"AccelerationX\", \"AccelerationY\", \"AccelerationZ\"])))"
   ]
  },
  {
   "cell_type": "code",
   "execution_count": null,
   "metadata": {},
   "outputs": [],
   "source": [
    "for i in range(48):\n",
    "    low_passed_runFall[i][\"AccelerationT\"] = np.sqrt(runFall[i][\"AccelerationX\"]**2 * \n",
    "                                                      runFall[i][\"AccelerationY\"]**2 *\n",
    "                                                      runFall[i][\"AccelerationZ\"]**2 )\n",
    "    low_passed_runFall[i][\"Date\"] = runFall[i][\"Date\"]\n",
    "    low_passed_runFall[i][\"Timestamp\"] = runFall[i][\"Timestamp\"]\n",
    "    low_passed_runFall[i][\"DeviceOrientation\"] = runFall[i][\"DeviceOrientation\"]"
   ]
  },
  {
   "cell_type": "code",
   "execution_count": null,
   "metadata": {},
   "outputs": [],
   "source": [
    "for i in range(48):\n",
    "    low_passed_walkFall[i].to_csv(\"Data/Cleaned/runFall/runFall{}.csv\".format(i+1), sep = ';',index=False)"
   ]
  },
  {
   "cell_type": "markdown",
   "metadata": {},
   "source": [
    "# `down and Sit`"
   ]
  },
  {
   "cell_type": "code",
   "execution_count": null,
   "metadata": {},
   "outputs": [],
   "source": [
    "low_passed_downSit = []\n",
    "for i in range(15):\n",
    "    low_passed_downSitX = list(signal.filtfilt(b, a, downSit[i][\"AccelerationX\"]))\n",
    "    low_passed_downSitY = list(signal.filtfilt(b, a, downSit[i][\"AccelerationY\"]))\n",
    "    low_passed_downSitZ = list(signal.filtfilt(b, a, downSit[i][\"AccelerationZ\"]))\n",
    "    low_passed_downSit.append((pd.DataFrame(list(zip(low_passed_downSitX, low_passed_downSitY, low_passed_downSitZ)),\n",
    "                                            columns=[\"AccelerationX\", \"AccelerationY\", \"AccelerationZ\"])))"
   ]
  },
  {
   "cell_type": "code",
   "execution_count": null,
   "metadata": {},
   "outputs": [],
   "source": [
    "for i in range(48):\n",
    "    low_passed_downSit[i][\"AccelerationT\"] = np.sqrt(downSit[i][\"AccelerationX\"]**2 * \n",
    "                                                      downSit[i][\"AccelerationY\"]**2 *\n",
    "                                                      downSit[i][\"AccelerationZ\"]**2 )\n",
    "    low_passed_downSit[i][\"Date\"] = downSit[i][\"Date\"]\n",
    "    low_passed_downSit[i][\"Timestamp\"] = downSit[i][\"Timestamp\"]\n",
    "    low_passed_downSit[i][\"DeviceOrientation\"] = downSit[i][\"DeviceOrientation\"]"
   ]
  },
  {
   "cell_type": "markdown",
   "metadata": {},
   "source": [
    "# `freeFall`"
   ]
  },
  {
   "cell_type": "code",
   "execution_count": null,
   "metadata": {},
   "outputs": [],
   "source": [
    "low_passed_freeFall = []\n",
    "for i in range(15):\n",
    "    low_passed_freeFall = list(signal.filtfilt(b, a, freeFall[i][\"AccelerationX\"]))\n",
    "    low_passed_freeFall = list(signal.filtfilt(b, a, freeFall[i][\"AccelerationY\"]))\n",
    "    low_passed_freeFall = list(signal.filtfilt(b, a, freeFall[i][\"AccelerationZ\"]))\n",
    "    low_passed_freeFall.append((pd.DataFrame(list(zip(low_passed_freeFall, low_passed_freeFall, low_passed_freeFall)),\n",
    "                                            columns=[\"AccelerationX\", \"AccelerationY\", \"AccelerationZ\"])))"
   ]
  },
  {
   "cell_type": "code",
   "execution_count": null,
   "metadata": {},
   "outputs": [],
   "source": [
    "for i in range(48):\n",
    "    low_passed_freeFall[i][\"AccelerationT\"] = np.sqrt(freeFall[i][\"AccelerationX\"]**2 * \n",
    "                                                      freeFall[i][\"AccelerationY\"]**2 *\n",
    "                                                      freeFall[i][\"AccelerationZ\"]**2 )\n",
    "    low_passed_freeFall[i][\"Date\"] = freeFall[i][\"Date\"]\n",
    "    low_passed_freeFall[i][\"Timestamp\"] = freeFall[i][\"Timestamp\"]\n",
    "    low_passed_freeFall[i][\"DeviceOrientation\"] = freeFall[i][\"DeviceOrientation\"]"
   ]
  },
  {
   "cell_type": "code",
   "execution_count": null,
   "metadata": {},
   "outputs": [],
   "source": []
  },
  {
   "cell_type": "code",
   "execution_count": null,
   "metadata": {},
   "outputs": [],
   "source": []
  },
  {
   "cell_type": "code",
   "execution_count": null,
   "metadata": {},
   "outputs": [],
   "source": []
  }
 ],
 "metadata": {
  "kernelspec": {
   "display_name": "Python 3",
   "language": "python",
   "name": "python3"
  },
  "language_info": {
   "codemirror_mode": {
    "name": "ipython",
    "version": 3
   },
   "file_extension": ".py",
   "mimetype": "text/x-python",
   "name": "python",
   "nbconvert_exporter": "python",
   "pygments_lexer": "ipython3",
   "version": "3.7.6"
  }
 },
 "nbformat": 4,
 "nbformat_minor": 4
}
